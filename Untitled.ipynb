{
 "cells": [
  {
   "cell_type": "code",
   "execution_count": 1,
   "metadata": {},
   "outputs": [],
   "source": [
    "import pandas as np"
   ]
  },
  {
   "cell_type": "code",
   "execution_count": 2,
   "metadata": {},
   "outputs": [],
   "source": [
    "import json"
   ]
  },
  {
   "cell_type": "code",
   "execution_count": 3,
   "metadata": {},
   "outputs": [
    {
     "name": "stdout",
     "output_type": "stream",
     "text": [
      "\u001b[0m\u001b[01;34mDesktop\u001b[0m/    \u001b[01;34mDownloads\u001b[0m/  \u001b[01;34moTree\u001b[0m/     \u001b[01;34mPublic\u001b[0m/     Untitled.ipynb\r\n",
      "\u001b[01;34mDocuments\u001b[0m/  \u001b[01;34mMusic\u001b[0m/      \u001b[01;34mPictures\u001b[0m/  \u001b[01;34mTemplates\u001b[0m/  \u001b[01;34mVideos\u001b[0m/\r\n"
     ]
    }
   ],
   "source": [
    "ls\n"
   ]
  },
  {
   "cell_type": "code",
   "execution_count": 4,
   "metadata": {},
   "outputs": [
    {
     "name": "stdout",
     "output_type": "stream",
     "text": [
      "/home/jeffrey/Desktop\n"
     ]
    }
   ],
   "source": [
    "cd Desktop"
   ]
  },
  {
   "cell_type": "code",
   "execution_count": 7,
   "metadata": {},
   "outputs": [],
   "source": [
    "x = pd.read_csv('linez.csv')"
   ]
  },
  {
   "cell_type": "code",
   "execution_count": 6,
   "metadata": {},
   "outputs": [],
   "source": [
    "import pandas as pd"
   ]
  },
  {
   "cell_type": "code",
   "execution_count": 8,
   "metadata": {},
   "outputs": [
    {
     "data": {
      "text/html": [
       "<div>\n",
       "<style scoped>\n",
       "    .dataframe tbody tr th:only-of-type {\n",
       "        vertical-align: middle;\n",
       "    }\n",
       "\n",
       "    .dataframe tbody tr th {\n",
       "        vertical-align: top;\n",
       "    }\n",
       "\n",
       "    .dataframe thead th {\n",
       "        text-align: right;\n",
       "    }\n",
       "</style>\n",
       "<table border=\"1\" class=\"dataframe\">\n",
       "  <thead>\n",
       "    <tr style=\"text-align: right;\">\n",
       "      <th></th>\n",
       "      <th>participant.id_in_session</th>\n",
       "      <th>participant.code</th>\n",
       "      <th>participant.label</th>\n",
       "      <th>participant._is_bot</th>\n",
       "      <th>participant._index_in_pages</th>\n",
       "      <th>participant._max_page_index</th>\n",
       "      <th>participant._current_app_name</th>\n",
       "      <th>participant._round_number</th>\n",
       "      <th>participant._current_page_name</th>\n",
       "      <th>participant.ip_address</th>\n",
       "      <th>...</th>\n",
       "      <th>group.id_in_subsession</th>\n",
       "      <th>group.ran_ready_function</th>\n",
       "      <th>subsession.round_number</th>\n",
       "      <th>session.code</th>\n",
       "      <th>session.label</th>\n",
       "      <th>session.experimenter_name</th>\n",
       "      <th>session.mturk_HITId</th>\n",
       "      <th>session.mturk_HITGroupId</th>\n",
       "      <th>session.comment</th>\n",
       "      <th>session.is_demo</th>\n",
       "    </tr>\n",
       "  </thead>\n",
       "  <tbody>\n",
       "    <tr>\n",
       "      <th>0</th>\n",
       "      <td>1</td>\n",
       "      <td>fjoh3g1a</td>\n",
       "      <td>NaN</td>\n",
       "      <td>0</td>\n",
       "      <td>7</td>\n",
       "      <td>6</td>\n",
       "      <td>Lines_Queueing</td>\n",
       "      <td>1</td>\n",
       "      <td>Results</td>\n",
       "      <td>127.0.0.1</td>\n",
       "      <td>...</td>\n",
       "      <td>1</td>\n",
       "      <td>2019-03-14 03:33:18.661509+00:00</td>\n",
       "      <td>1</td>\n",
       "      <td>57ofqphl</td>\n",
       "      <td>NaN</td>\n",
       "      <td>NaN</td>\n",
       "      <td>NaN</td>\n",
       "      <td>NaN</td>\n",
       "      <td>NaN</td>\n",
       "      <td>1</td>\n",
       "    </tr>\n",
       "    <tr>\n",
       "      <th>1</th>\n",
       "      <td>2</td>\n",
       "      <td>29syu4ky</td>\n",
       "      <td>NaN</td>\n",
       "      <td>0</td>\n",
       "      <td>7</td>\n",
       "      <td>6</td>\n",
       "      <td>Lines_Queueing</td>\n",
       "      <td>1</td>\n",
       "      <td>Results</td>\n",
       "      <td>127.0.0.1</td>\n",
       "      <td>...</td>\n",
       "      <td>1</td>\n",
       "      <td>2019-03-14 03:33:18.661509+00:00</td>\n",
       "      <td>1</td>\n",
       "      <td>57ofqphl</td>\n",
       "      <td>NaN</td>\n",
       "      <td>NaN</td>\n",
       "      <td>NaN</td>\n",
       "      <td>NaN</td>\n",
       "      <td>NaN</td>\n",
       "      <td>1</td>\n",
       "    </tr>\n",
       "    <tr>\n",
       "      <th>2</th>\n",
       "      <td>3</td>\n",
       "      <td>0cvwxt1m</td>\n",
       "      <td>NaN</td>\n",
       "      <td>0</td>\n",
       "      <td>7</td>\n",
       "      <td>6</td>\n",
       "      <td>Lines_Queueing</td>\n",
       "      <td>1</td>\n",
       "      <td>Results</td>\n",
       "      <td>127.0.0.1</td>\n",
       "      <td>...</td>\n",
       "      <td>1</td>\n",
       "      <td>2019-03-14 03:33:18.661509+00:00</td>\n",
       "      <td>1</td>\n",
       "      <td>57ofqphl</td>\n",
       "      <td>NaN</td>\n",
       "      <td>NaN</td>\n",
       "      <td>NaN</td>\n",
       "      <td>NaN</td>\n",
       "      <td>NaN</td>\n",
       "      <td>1</td>\n",
       "    </tr>\n",
       "    <tr>\n",
       "      <th>3</th>\n",
       "      <td>4</td>\n",
       "      <td>unl6u8va</td>\n",
       "      <td>NaN</td>\n",
       "      <td>0</td>\n",
       "      <td>7</td>\n",
       "      <td>6</td>\n",
       "      <td>Lines_Queueing</td>\n",
       "      <td>1</td>\n",
       "      <td>Results</td>\n",
       "      <td>127.0.0.1</td>\n",
       "      <td>...</td>\n",
       "      <td>1</td>\n",
       "      <td>2019-03-14 03:33:18.661509+00:00</td>\n",
       "      <td>1</td>\n",
       "      <td>57ofqphl</td>\n",
       "      <td>NaN</td>\n",
       "      <td>NaN</td>\n",
       "      <td>NaN</td>\n",
       "      <td>NaN</td>\n",
       "      <td>NaN</td>\n",
       "      <td>1</td>\n",
       "    </tr>\n",
       "  </tbody>\n",
       "</table>\n",
       "<p>4 rows × 42 columns</p>\n",
       "</div>"
      ],
      "text/plain": [
       "   participant.id_in_session participant.code  participant.label  \\\n",
       "0                          1         fjoh3g1a                NaN   \n",
       "1                          2         29syu4ky                NaN   \n",
       "2                          3         0cvwxt1m                NaN   \n",
       "3                          4         unl6u8va                NaN   \n",
       "\n",
       "   participant._is_bot  participant._index_in_pages  \\\n",
       "0                    0                            7   \n",
       "1                    0                            7   \n",
       "2                    0                            7   \n",
       "3                    0                            7   \n",
       "\n",
       "   participant._max_page_index participant._current_app_name  \\\n",
       "0                            6                Lines_Queueing   \n",
       "1                            6                Lines_Queueing   \n",
       "2                            6                Lines_Queueing   \n",
       "3                            6                Lines_Queueing   \n",
       "\n",
       "   participant._round_number participant._current_page_name  \\\n",
       "0                          1                        Results   \n",
       "1                          1                        Results   \n",
       "2                          1                        Results   \n",
       "3                          1                        Results   \n",
       "\n",
       "  participant.ip_address  ... group.id_in_subsession  \\\n",
       "0              127.0.0.1  ...                      1   \n",
       "1              127.0.0.1  ...                      1   \n",
       "2              127.0.0.1  ...                      1   \n",
       "3              127.0.0.1  ...                      1   \n",
       "\n",
       "           group.ran_ready_function  subsession.round_number  session.code  \\\n",
       "0  2019-03-14 03:33:18.661509+00:00                        1      57ofqphl   \n",
       "1  2019-03-14 03:33:18.661509+00:00                        1      57ofqphl   \n",
       "2  2019-03-14 03:33:18.661509+00:00                        1      57ofqphl   \n",
       "3  2019-03-14 03:33:18.661509+00:00                        1      57ofqphl   \n",
       "\n",
       "   session.label  session.experimenter_name  session.mturk_HITId  \\\n",
       "0            NaN                        NaN                  NaN   \n",
       "1            NaN                        NaN                  NaN   \n",
       "2            NaN                        NaN                  NaN   \n",
       "3            NaN                        NaN                  NaN   \n",
       "\n",
       "  session.mturk_HITGroupId session.comment session.is_demo  \n",
       "0                      NaN             NaN               1  \n",
       "1                      NaN             NaN               1  \n",
       "2                      NaN             NaN               1  \n",
       "3                      NaN             NaN               1  \n",
       "\n",
       "[4 rows x 42 columns]"
      ]
     },
     "execution_count": 8,
     "metadata": {},
     "output_type": "execute_result"
    }
   ],
   "source": [
    "x"
   ]
  },
  {
   "cell_type": "code",
   "execution_count": 9,
   "metadata": {},
   "outputs": [
    {
     "ename": "KeyError",
     "evalue": "'player.metadata'",
     "output_type": "error",
     "traceback": [
      "\u001b[0;31m---------------------------------------------------------------------------\u001b[0m",
      "\u001b[0;31mKeyError\u001b[0m                                  Traceback (most recent call last)",
      "\u001b[0;32m<ipython-input-9-d3c38d940e11>\u001b[0m in \u001b[0;36m<module>\u001b[0;34m()\u001b[0m\n\u001b[0;32m----> 1\u001b[0;31m \u001b[0mx\u001b[0m\u001b[0;34m.\u001b[0m\u001b[0mloc\u001b[0m\u001b[0;34m[\u001b[0m\u001b[0;34m'player.metadata'\u001b[0m\u001b[0;34m]\u001b[0m\u001b[0;34m\u001b[0m\u001b[0;34m\u001b[0m\u001b[0m\n\u001b[0m",
      "\u001b[0;32m/home/jeffrey/.local/lib/python2.7/site-packages/pandas/core/indexing.pyc\u001b[0m in \u001b[0;36m__getitem__\u001b[0;34m(self, key)\u001b[0m\n\u001b[1;32m   1498\u001b[0m \u001b[0;34m\u001b[0m\u001b[0m\n\u001b[1;32m   1499\u001b[0m             \u001b[0mmaybe_callable\u001b[0m \u001b[0;34m=\u001b[0m \u001b[0mcom\u001b[0m\u001b[0;34m.\u001b[0m\u001b[0mapply_if_callable\u001b[0m\u001b[0;34m(\u001b[0m\u001b[0mkey\u001b[0m\u001b[0;34m,\u001b[0m \u001b[0mself\u001b[0m\u001b[0;34m.\u001b[0m\u001b[0mobj\u001b[0m\u001b[0;34m)\u001b[0m\u001b[0;34m\u001b[0m\u001b[0;34m\u001b[0m\u001b[0m\n\u001b[0;32m-> 1500\u001b[0;31m             \u001b[0;32mreturn\u001b[0m \u001b[0mself\u001b[0m\u001b[0;34m.\u001b[0m\u001b[0m_getitem_axis\u001b[0m\u001b[0;34m(\u001b[0m\u001b[0mmaybe_callable\u001b[0m\u001b[0;34m,\u001b[0m \u001b[0maxis\u001b[0m\u001b[0;34m=\u001b[0m\u001b[0maxis\u001b[0m\u001b[0;34m)\u001b[0m\u001b[0;34m\u001b[0m\u001b[0;34m\u001b[0m\u001b[0m\n\u001b[0m\u001b[1;32m   1501\u001b[0m \u001b[0;34m\u001b[0m\u001b[0m\n\u001b[1;32m   1502\u001b[0m     \u001b[0;32mdef\u001b[0m \u001b[0m_is_scalar_access\u001b[0m\u001b[0;34m(\u001b[0m\u001b[0mself\u001b[0m\u001b[0;34m,\u001b[0m \u001b[0mkey\u001b[0m\u001b[0;34m)\u001b[0m\u001b[0;34m:\u001b[0m\u001b[0;34m\u001b[0m\u001b[0;34m\u001b[0m\u001b[0m\n",
      "\u001b[0;32m/home/jeffrey/.local/lib/python2.7/site-packages/pandas/core/indexing.pyc\u001b[0m in \u001b[0;36m_getitem_axis\u001b[0;34m(self, key, axis)\u001b[0m\n\u001b[1;32m   1911\u001b[0m         \u001b[0;31m# fall thru to straight lookup\u001b[0m\u001b[0;34m\u001b[0m\u001b[0;34m\u001b[0m\u001b[0;34m\u001b[0m\u001b[0m\n\u001b[1;32m   1912\u001b[0m         \u001b[0mself\u001b[0m\u001b[0;34m.\u001b[0m\u001b[0m_validate_key\u001b[0m\u001b[0;34m(\u001b[0m\u001b[0mkey\u001b[0m\u001b[0;34m,\u001b[0m \u001b[0maxis\u001b[0m\u001b[0;34m)\u001b[0m\u001b[0;34m\u001b[0m\u001b[0;34m\u001b[0m\u001b[0m\n\u001b[0;32m-> 1913\u001b[0;31m         \u001b[0;32mreturn\u001b[0m \u001b[0mself\u001b[0m\u001b[0;34m.\u001b[0m\u001b[0m_get_label\u001b[0m\u001b[0;34m(\u001b[0m\u001b[0mkey\u001b[0m\u001b[0;34m,\u001b[0m \u001b[0maxis\u001b[0m\u001b[0;34m=\u001b[0m\u001b[0maxis\u001b[0m\u001b[0;34m)\u001b[0m\u001b[0;34m\u001b[0m\u001b[0;34m\u001b[0m\u001b[0m\n\u001b[0m\u001b[1;32m   1914\u001b[0m \u001b[0;34m\u001b[0m\u001b[0m\n\u001b[1;32m   1915\u001b[0m \u001b[0;34m\u001b[0m\u001b[0m\n",
      "\u001b[0;32m/home/jeffrey/.local/lib/python2.7/site-packages/pandas/core/indexing.pyc\u001b[0m in \u001b[0;36m_get_label\u001b[0;34m(self, label, axis)\u001b[0m\n\u001b[1;32m    139\u001b[0m             \u001b[0;32mraise\u001b[0m \u001b[0mIndexingError\u001b[0m\u001b[0;34m(\u001b[0m\u001b[0;34m'no slices here, handle elsewhere'\u001b[0m\u001b[0;34m)\u001b[0m\u001b[0;34m\u001b[0m\u001b[0;34m\u001b[0m\u001b[0m\n\u001b[1;32m    140\u001b[0m \u001b[0;34m\u001b[0m\u001b[0m\n\u001b[0;32m--> 141\u001b[0;31m         \u001b[0;32mreturn\u001b[0m \u001b[0mself\u001b[0m\u001b[0;34m.\u001b[0m\u001b[0mobj\u001b[0m\u001b[0;34m.\u001b[0m\u001b[0m_xs\u001b[0m\u001b[0;34m(\u001b[0m\u001b[0mlabel\u001b[0m\u001b[0;34m,\u001b[0m \u001b[0maxis\u001b[0m\u001b[0;34m=\u001b[0m\u001b[0maxis\u001b[0m\u001b[0;34m)\u001b[0m\u001b[0;34m\u001b[0m\u001b[0;34m\u001b[0m\u001b[0m\n\u001b[0m\u001b[1;32m    142\u001b[0m \u001b[0;34m\u001b[0m\u001b[0m\n\u001b[1;32m    143\u001b[0m     \u001b[0;32mdef\u001b[0m \u001b[0m_get_loc\u001b[0m\u001b[0;34m(\u001b[0m\u001b[0mself\u001b[0m\u001b[0;34m,\u001b[0m \u001b[0mkey\u001b[0m\u001b[0;34m,\u001b[0m \u001b[0maxis\u001b[0m\u001b[0;34m=\u001b[0m\u001b[0mNone\u001b[0m\u001b[0;34m)\u001b[0m\u001b[0;34m:\u001b[0m\u001b[0;34m\u001b[0m\u001b[0;34m\u001b[0m\u001b[0m\n",
      "\u001b[0;32m/home/jeffrey/.local/lib/python2.7/site-packages/pandas/core/generic.pyc\u001b[0m in \u001b[0;36mxs\u001b[0;34m(self, key, axis, level, drop_level)\u001b[0m\n\u001b[1;32m   3583\u001b[0m                                                       drop_level=drop_level)\n\u001b[1;32m   3584\u001b[0m         \u001b[0;32melse\u001b[0m\u001b[0;34m:\u001b[0m\u001b[0;34m\u001b[0m\u001b[0;34m\u001b[0m\u001b[0m\n\u001b[0;32m-> 3585\u001b[0;31m             \u001b[0mloc\u001b[0m \u001b[0;34m=\u001b[0m \u001b[0mself\u001b[0m\u001b[0;34m.\u001b[0m\u001b[0mindex\u001b[0m\u001b[0;34m.\u001b[0m\u001b[0mget_loc\u001b[0m\u001b[0;34m(\u001b[0m\u001b[0mkey\u001b[0m\u001b[0;34m)\u001b[0m\u001b[0;34m\u001b[0m\u001b[0;34m\u001b[0m\u001b[0m\n\u001b[0m\u001b[1;32m   3586\u001b[0m \u001b[0;34m\u001b[0m\u001b[0m\n\u001b[1;32m   3587\u001b[0m             \u001b[0;32mif\u001b[0m \u001b[0misinstance\u001b[0m\u001b[0;34m(\u001b[0m\u001b[0mloc\u001b[0m\u001b[0;34m,\u001b[0m \u001b[0mnp\u001b[0m\u001b[0;34m.\u001b[0m\u001b[0mndarray\u001b[0m\u001b[0;34m)\u001b[0m\u001b[0;34m:\u001b[0m\u001b[0;34m\u001b[0m\u001b[0;34m\u001b[0m\u001b[0m\n",
      "\u001b[0;32m/home/jeffrey/.local/lib/python2.7/site-packages/pandas/core/indexes/base.pyc\u001b[0m in \u001b[0;36mget_loc\u001b[0;34m(self, key, method, tolerance)\u001b[0m\n\u001b[1;32m   2656\u001b[0m                 \u001b[0;32mreturn\u001b[0m \u001b[0mself\u001b[0m\u001b[0;34m.\u001b[0m\u001b[0m_engine\u001b[0m\u001b[0;34m.\u001b[0m\u001b[0mget_loc\u001b[0m\u001b[0;34m(\u001b[0m\u001b[0mkey\u001b[0m\u001b[0;34m)\u001b[0m\u001b[0;34m\u001b[0m\u001b[0;34m\u001b[0m\u001b[0m\n\u001b[1;32m   2657\u001b[0m             \u001b[0;32mexcept\u001b[0m \u001b[0mKeyError\u001b[0m\u001b[0;34m:\u001b[0m\u001b[0;34m\u001b[0m\u001b[0;34m\u001b[0m\u001b[0m\n\u001b[0;32m-> 2658\u001b[0;31m                 \u001b[0;32mreturn\u001b[0m \u001b[0mself\u001b[0m\u001b[0;34m.\u001b[0m\u001b[0m_engine\u001b[0m\u001b[0;34m.\u001b[0m\u001b[0mget_loc\u001b[0m\u001b[0;34m(\u001b[0m\u001b[0mself\u001b[0m\u001b[0;34m.\u001b[0m\u001b[0m_maybe_cast_indexer\u001b[0m\u001b[0;34m(\u001b[0m\u001b[0mkey\u001b[0m\u001b[0;34m)\u001b[0m\u001b[0;34m)\u001b[0m\u001b[0;34m\u001b[0m\u001b[0;34m\u001b[0m\u001b[0m\n\u001b[0m\u001b[1;32m   2659\u001b[0m         \u001b[0mindexer\u001b[0m \u001b[0;34m=\u001b[0m \u001b[0mself\u001b[0m\u001b[0;34m.\u001b[0m\u001b[0mget_indexer\u001b[0m\u001b[0;34m(\u001b[0m\u001b[0;34m[\u001b[0m\u001b[0mkey\u001b[0m\u001b[0;34m]\u001b[0m\u001b[0;34m,\u001b[0m \u001b[0mmethod\u001b[0m\u001b[0;34m=\u001b[0m\u001b[0mmethod\u001b[0m\u001b[0;34m,\u001b[0m \u001b[0mtolerance\u001b[0m\u001b[0;34m=\u001b[0m\u001b[0mtolerance\u001b[0m\u001b[0;34m)\u001b[0m\u001b[0;34m\u001b[0m\u001b[0;34m\u001b[0m\u001b[0m\n\u001b[1;32m   2660\u001b[0m         \u001b[0;32mif\u001b[0m \u001b[0mindexer\u001b[0m\u001b[0;34m.\u001b[0m\u001b[0mndim\u001b[0m \u001b[0;34m>\u001b[0m \u001b[0;36m1\u001b[0m \u001b[0;32mor\u001b[0m \u001b[0mindexer\u001b[0m\u001b[0;34m.\u001b[0m\u001b[0msize\u001b[0m \u001b[0;34m>\u001b[0m \u001b[0;36m1\u001b[0m\u001b[0;34m:\u001b[0m\u001b[0;34m\u001b[0m\u001b[0;34m\u001b[0m\u001b[0m\n",
      "\u001b[0;32mpandas/_libs/index.pyx\u001b[0m in \u001b[0;36mpandas._libs.index.IndexEngine.get_loc\u001b[0;34m()\u001b[0m\n",
      "\u001b[0;32mpandas/_libs/index.pyx\u001b[0m in \u001b[0;36mpandas._libs.index.IndexEngine.get_loc\u001b[0;34m()\u001b[0m\n",
      "\u001b[0;32mpandas/_libs/index_class_helper.pxi\u001b[0m in \u001b[0;36mpandas._libs.index.Int64Engine._check_type\u001b[0;34m()\u001b[0m\n",
      "\u001b[0;31mKeyError\u001b[0m: 'player.metadata'"
     ]
    }
   ],
   "source": [
    "x.loc['player.metadata']"
   ]
  },
  {
   "cell_type": "code",
   "execution_count": 10,
   "metadata": {},
   "outputs": [],
   "source": [
    "df = x\n"
   ]
  },
  {
   "cell_type": "code",
   "execution_count": 11,
   "metadata": {},
   "outputs": [
    {
     "data": {
      "text/html": [
       "<div>\n",
       "<style scoped>\n",
       "    .dataframe tbody tr th:only-of-type {\n",
       "        vertical-align: middle;\n",
       "    }\n",
       "\n",
       "    .dataframe tbody tr th {\n",
       "        vertical-align: top;\n",
       "    }\n",
       "\n",
       "    .dataframe thead th {\n",
       "        text-align: right;\n",
       "    }\n",
       "</style>\n",
       "<table border=\"1\" class=\"dataframe\">\n",
       "  <thead>\n",
       "    <tr style=\"text-align: right;\">\n",
       "      <th></th>\n",
       "      <th>participant.id_in_session</th>\n",
       "      <th>participant.code</th>\n",
       "      <th>participant.label</th>\n",
       "      <th>participant._is_bot</th>\n",
       "      <th>participant._index_in_pages</th>\n",
       "      <th>participant._max_page_index</th>\n",
       "      <th>participant._current_app_name</th>\n",
       "      <th>participant._round_number</th>\n",
       "      <th>participant._current_page_name</th>\n",
       "      <th>participant.ip_address</th>\n",
       "      <th>...</th>\n",
       "      <th>group.id_in_subsession</th>\n",
       "      <th>group.ran_ready_function</th>\n",
       "      <th>subsession.round_number</th>\n",
       "      <th>session.code</th>\n",
       "      <th>session.label</th>\n",
       "      <th>session.experimenter_name</th>\n",
       "      <th>session.mturk_HITId</th>\n",
       "      <th>session.mturk_HITGroupId</th>\n",
       "      <th>session.comment</th>\n",
       "      <th>session.is_demo</th>\n",
       "    </tr>\n",
       "  </thead>\n",
       "  <tbody>\n",
       "    <tr>\n",
       "      <th>0</th>\n",
       "      <td>1</td>\n",
       "      <td>fjoh3g1a</td>\n",
       "      <td>NaN</td>\n",
       "      <td>0</td>\n",
       "      <td>7</td>\n",
       "      <td>6</td>\n",
       "      <td>Lines_Queueing</td>\n",
       "      <td>1</td>\n",
       "      <td>Results</td>\n",
       "      <td>127.0.0.1</td>\n",
       "      <td>...</td>\n",
       "      <td>1</td>\n",
       "      <td>2019-03-14 03:33:18.661509+00:00</td>\n",
       "      <td>1</td>\n",
       "      <td>57ofqphl</td>\n",
       "      <td>NaN</td>\n",
       "      <td>NaN</td>\n",
       "      <td>NaN</td>\n",
       "      <td>NaN</td>\n",
       "      <td>NaN</td>\n",
       "      <td>1</td>\n",
       "    </tr>\n",
       "    <tr>\n",
       "      <th>1</th>\n",
       "      <td>2</td>\n",
       "      <td>29syu4ky</td>\n",
       "      <td>NaN</td>\n",
       "      <td>0</td>\n",
       "      <td>7</td>\n",
       "      <td>6</td>\n",
       "      <td>Lines_Queueing</td>\n",
       "      <td>1</td>\n",
       "      <td>Results</td>\n",
       "      <td>127.0.0.1</td>\n",
       "      <td>...</td>\n",
       "      <td>1</td>\n",
       "      <td>2019-03-14 03:33:18.661509+00:00</td>\n",
       "      <td>1</td>\n",
       "      <td>57ofqphl</td>\n",
       "      <td>NaN</td>\n",
       "      <td>NaN</td>\n",
       "      <td>NaN</td>\n",
       "      <td>NaN</td>\n",
       "      <td>NaN</td>\n",
       "      <td>1</td>\n",
       "    </tr>\n",
       "    <tr>\n",
       "      <th>2</th>\n",
       "      <td>3</td>\n",
       "      <td>0cvwxt1m</td>\n",
       "      <td>NaN</td>\n",
       "      <td>0</td>\n",
       "      <td>7</td>\n",
       "      <td>6</td>\n",
       "      <td>Lines_Queueing</td>\n",
       "      <td>1</td>\n",
       "      <td>Results</td>\n",
       "      <td>127.0.0.1</td>\n",
       "      <td>...</td>\n",
       "      <td>1</td>\n",
       "      <td>2019-03-14 03:33:18.661509+00:00</td>\n",
       "      <td>1</td>\n",
       "      <td>57ofqphl</td>\n",
       "      <td>NaN</td>\n",
       "      <td>NaN</td>\n",
       "      <td>NaN</td>\n",
       "      <td>NaN</td>\n",
       "      <td>NaN</td>\n",
       "      <td>1</td>\n",
       "    </tr>\n",
       "    <tr>\n",
       "      <th>3</th>\n",
       "      <td>4</td>\n",
       "      <td>unl6u8va</td>\n",
       "      <td>NaN</td>\n",
       "      <td>0</td>\n",
       "      <td>7</td>\n",
       "      <td>6</td>\n",
       "      <td>Lines_Queueing</td>\n",
       "      <td>1</td>\n",
       "      <td>Results</td>\n",
       "      <td>127.0.0.1</td>\n",
       "      <td>...</td>\n",
       "      <td>1</td>\n",
       "      <td>2019-03-14 03:33:18.661509+00:00</td>\n",
       "      <td>1</td>\n",
       "      <td>57ofqphl</td>\n",
       "      <td>NaN</td>\n",
       "      <td>NaN</td>\n",
       "      <td>NaN</td>\n",
       "      <td>NaN</td>\n",
       "      <td>NaN</td>\n",
       "      <td>1</td>\n",
       "    </tr>\n",
       "  </tbody>\n",
       "</table>\n",
       "<p>4 rows × 42 columns</p>\n",
       "</div>"
      ],
      "text/plain": [
       "   participant.id_in_session participant.code  participant.label  \\\n",
       "0                          1         fjoh3g1a                NaN   \n",
       "1                          2         29syu4ky                NaN   \n",
       "2                          3         0cvwxt1m                NaN   \n",
       "3                          4         unl6u8va                NaN   \n",
       "\n",
       "   participant._is_bot  participant._index_in_pages  \\\n",
       "0                    0                            7   \n",
       "1                    0                            7   \n",
       "2                    0                            7   \n",
       "3                    0                            7   \n",
       "\n",
       "   participant._max_page_index participant._current_app_name  \\\n",
       "0                            6                Lines_Queueing   \n",
       "1                            6                Lines_Queueing   \n",
       "2                            6                Lines_Queueing   \n",
       "3                            6                Lines_Queueing   \n",
       "\n",
       "   participant._round_number participant._current_page_name  \\\n",
       "0                          1                        Results   \n",
       "1                          1                        Results   \n",
       "2                          1                        Results   \n",
       "3                          1                        Results   \n",
       "\n",
       "  participant.ip_address  ... group.id_in_subsession  \\\n",
       "0              127.0.0.1  ...                      1   \n",
       "1              127.0.0.1  ...                      1   \n",
       "2              127.0.0.1  ...                      1   \n",
       "3              127.0.0.1  ...                      1   \n",
       "\n",
       "           group.ran_ready_function  subsession.round_number  session.code  \\\n",
       "0  2019-03-14 03:33:18.661509+00:00                        1      57ofqphl   \n",
       "1  2019-03-14 03:33:18.661509+00:00                        1      57ofqphl   \n",
       "2  2019-03-14 03:33:18.661509+00:00                        1      57ofqphl   \n",
       "3  2019-03-14 03:33:18.661509+00:00                        1      57ofqphl   \n",
       "\n",
       "   session.label  session.experimenter_name  session.mturk_HITId  \\\n",
       "0            NaN                        NaN                  NaN   \n",
       "1            NaN                        NaN                  NaN   \n",
       "2            NaN                        NaN                  NaN   \n",
       "3            NaN                        NaN                  NaN   \n",
       "\n",
       "  session.mturk_HITGroupId session.comment session.is_demo  \n",
       "0                      NaN             NaN               1  \n",
       "1                      NaN             NaN               1  \n",
       "2                      NaN             NaN               1  \n",
       "3                      NaN             NaN               1  \n",
       "\n",
       "[4 rows x 42 columns]"
      ]
     },
     "execution_count": 11,
     "metadata": {},
     "output_type": "execute_result"
    }
   ],
   "source": [
    "df"
   ]
  },
  {
   "cell_type": "code",
   "execution_count": 12,
   "metadata": {},
   "outputs": [
    {
     "data": {
      "text/plain": [
       "participant.id_in_session            int64\n",
       "participant.code                    object\n",
       "participant.label                  float64\n",
       "participant._is_bot                  int64\n",
       "participant._index_in_pages          int64\n",
       "participant._max_page_index          int64\n",
       "participant._current_app_name       object\n",
       "participant._round_number            int64\n",
       "participant._current_page_name      object\n",
       "participant.ip_address              object\n",
       "participant.time_started            object\n",
       "participant.visited                  int64\n",
       "participant.mturk_worker_id        float64\n",
       "participant.mturk_assignment_id    float64\n",
       "participant.payoff                   int64\n",
       "player.id_in_group                   int64\n",
       "player.time_Instructions           float64\n",
       "player.time_Queue                   object\n",
       "player.time_Service                 object\n",
       "player.time_BP                      object\n",
       "player.time_Results                 object\n",
       "player.endowment                   float64\n",
       "player.start_pos                     int64\n",
       "player.service_time                float64\n",
       "player.waiting_time                float64\n",
       "player.pay_rate                    float64\n",
       "player.swap_method                  object\n",
       "player.pay_method                   object\n",
       "player.round_payoff                float64\n",
       "player.metadata                     object\n",
       "player.allMetadata                  object\n",
       "player.payoff                        int64\n",
       "group.id_in_subsession               int64\n",
       "group.ran_ready_function            object\n",
       "subsession.round_number              int64\n",
       "session.code                        object\n",
       "session.label                      float64\n",
       "session.experimenter_name          float64\n",
       "session.mturk_HITId                float64\n",
       "session.mturk_HITGroupId           float64\n",
       "session.comment                    float64\n",
       "session.is_demo                      int64\n",
       "dtype: object"
      ]
     },
     "execution_count": 12,
     "metadata": {},
     "output_type": "execute_result"
    }
   ],
   "source": [
    "df.dtypes"
   ]
  },
  {
   "cell_type": "code",
   "execution_count": 13,
   "metadata": {},
   "outputs": [
    {
     "data": {
      "text/plain": [
       "RangeIndex(start=0, stop=4, step=1)"
      ]
     },
     "execution_count": 13,
     "metadata": {},
     "output_type": "execute_result"
    }
   ],
   "source": [
    "df.index"
   ]
  },
  {
   "cell_type": "code",
   "execution_count": 15,
   "metadata": {},
   "outputs": [
    {
     "data": {
      "text/plain": [
       "Index([u'participant.id_in_session', u'participant.code', u'participant.label',\n",
       "       u'participant._is_bot', u'participant._index_in_pages',\n",
       "       u'participant._max_page_index', u'participant._current_app_name',\n",
       "       u'participant._round_number', u'participant._current_page_name',\n",
       "       u'participant.ip_address', u'participant.time_started',\n",
       "       u'participant.visited', u'participant.mturk_worker_id',\n",
       "       u'participant.mturk_assignment_id', u'participant.payoff',\n",
       "       u'player.id_in_group', u'player.time_Instructions',\n",
       "       u'player.time_Queue', u'player.time_Service', u'player.time_BP',\n",
       "       u'player.time_Results', u'player.endowment', u'player.start_pos',\n",
       "       u'player.service_time', u'player.waiting_time', u'player.pay_rate',\n",
       "       u'player.swap_method', u'player.pay_method', u'player.round_payoff',\n",
       "       u'player.metadata', u'player.allMetadata', u'player.payoff',\n",
       "       u'group.id_in_subsession', u'group.ran_ready_function',\n",
       "       u'subsession.round_number', u'session.code', u'session.label',\n",
       "       u'session.experimenter_name', u'session.mturk_HITId',\n",
       "       u'session.mturk_HITGroupId', u'session.comment', u'session.is_demo'],\n",
       "      dtype='object')"
      ]
     },
     "execution_count": 15,
     "metadata": {},
     "output_type": "execute_result"
    }
   ],
   "source": [
    "df.columns"
   ]
  },
  {
   "cell_type": "code",
   "execution_count": 16,
   "metadata": {},
   "outputs": [
    {
     "data": {
      "text/plain": [
       "0    {\"1552534400443\":{\"requestee\":3,\"queue\":[1,4,3...\n",
       "1    {\"1552534400443\":{\"requestee\":3,\"queue\":[1,4,3...\n",
       "2                                                  NaN\n",
       "3    {\"1552534400443\":{\"requestee\":3,\"queue\":[1,4,3...\n",
       "Name: player.metadata, dtype: object"
      ]
     },
     "execution_count": 16,
     "metadata": {},
     "output_type": "execute_result"
    }
   ],
   "source": [
    "df['player.metadata']"
   ]
  },
  {
   "cell_type": "code",
   "execution_count": 17,
   "metadata": {},
   "outputs": [
    {
     "ename": "KeyError",
     "evalue": "1",
     "output_type": "error",
     "traceback": [
      "\u001b[0;31m---------------------------------------------------------------------------\u001b[0m",
      "\u001b[0;31mKeyError\u001b[0m                                  Traceback (most recent call last)",
      "\u001b[0;32m<ipython-input-17-e11378e5a240>\u001b[0m in \u001b[0;36m<module>\u001b[0;34m()\u001b[0m\n\u001b[0;32m----> 1\u001b[0;31m \u001b[0mdf\u001b[0m\u001b[0;34m.\u001b[0m\u001b[0mloc\u001b[0m\u001b[0;34m[\u001b[0m\u001b[0mdf\u001b[0m\u001b[0;34m[\u001b[0m\u001b[0;36m1\u001b[0m\u001b[0;34m]\u001b[0m\u001b[0;34m]\u001b[0m\u001b[0;34m\u001b[0m\u001b[0;34m\u001b[0m\u001b[0m\n\u001b[0m",
      "\u001b[0;32m/home/jeffrey/.local/lib/python2.7/site-packages/pandas/core/frame.pyc\u001b[0m in \u001b[0;36m__getitem__\u001b[0;34m(self, key)\u001b[0m\n\u001b[1;32m   2925\u001b[0m             \u001b[0;32mif\u001b[0m \u001b[0mself\u001b[0m\u001b[0;34m.\u001b[0m\u001b[0mcolumns\u001b[0m\u001b[0;34m.\u001b[0m\u001b[0mnlevels\u001b[0m \u001b[0;34m>\u001b[0m \u001b[0;36m1\u001b[0m\u001b[0;34m:\u001b[0m\u001b[0;34m\u001b[0m\u001b[0;34m\u001b[0m\u001b[0m\n\u001b[1;32m   2926\u001b[0m                 \u001b[0;32mreturn\u001b[0m \u001b[0mself\u001b[0m\u001b[0;34m.\u001b[0m\u001b[0m_getitem_multilevel\u001b[0m\u001b[0;34m(\u001b[0m\u001b[0mkey\u001b[0m\u001b[0;34m)\u001b[0m\u001b[0;34m\u001b[0m\u001b[0;34m\u001b[0m\u001b[0m\n\u001b[0;32m-> 2927\u001b[0;31m             \u001b[0mindexer\u001b[0m \u001b[0;34m=\u001b[0m \u001b[0mself\u001b[0m\u001b[0;34m.\u001b[0m\u001b[0mcolumns\u001b[0m\u001b[0;34m.\u001b[0m\u001b[0mget_loc\u001b[0m\u001b[0;34m(\u001b[0m\u001b[0mkey\u001b[0m\u001b[0;34m)\u001b[0m\u001b[0;34m\u001b[0m\u001b[0;34m\u001b[0m\u001b[0m\n\u001b[0m\u001b[1;32m   2928\u001b[0m             \u001b[0;32mif\u001b[0m \u001b[0mis_integer\u001b[0m\u001b[0;34m(\u001b[0m\u001b[0mindexer\u001b[0m\u001b[0;34m)\u001b[0m\u001b[0;34m:\u001b[0m\u001b[0;34m\u001b[0m\u001b[0;34m\u001b[0m\u001b[0m\n\u001b[1;32m   2929\u001b[0m                 \u001b[0mindexer\u001b[0m \u001b[0;34m=\u001b[0m \u001b[0;34m[\u001b[0m\u001b[0mindexer\u001b[0m\u001b[0;34m]\u001b[0m\u001b[0;34m\u001b[0m\u001b[0;34m\u001b[0m\u001b[0m\n",
      "\u001b[0;32m/home/jeffrey/.local/lib/python2.7/site-packages/pandas/core/indexes/base.pyc\u001b[0m in \u001b[0;36mget_loc\u001b[0;34m(self, key, method, tolerance)\u001b[0m\n\u001b[1;32m   2656\u001b[0m                 \u001b[0;32mreturn\u001b[0m \u001b[0mself\u001b[0m\u001b[0;34m.\u001b[0m\u001b[0m_engine\u001b[0m\u001b[0;34m.\u001b[0m\u001b[0mget_loc\u001b[0m\u001b[0;34m(\u001b[0m\u001b[0mkey\u001b[0m\u001b[0;34m)\u001b[0m\u001b[0;34m\u001b[0m\u001b[0;34m\u001b[0m\u001b[0m\n\u001b[1;32m   2657\u001b[0m             \u001b[0;32mexcept\u001b[0m \u001b[0mKeyError\u001b[0m\u001b[0;34m:\u001b[0m\u001b[0;34m\u001b[0m\u001b[0;34m\u001b[0m\u001b[0m\n\u001b[0;32m-> 2658\u001b[0;31m                 \u001b[0;32mreturn\u001b[0m \u001b[0mself\u001b[0m\u001b[0;34m.\u001b[0m\u001b[0m_engine\u001b[0m\u001b[0;34m.\u001b[0m\u001b[0mget_loc\u001b[0m\u001b[0;34m(\u001b[0m\u001b[0mself\u001b[0m\u001b[0;34m.\u001b[0m\u001b[0m_maybe_cast_indexer\u001b[0m\u001b[0;34m(\u001b[0m\u001b[0mkey\u001b[0m\u001b[0;34m)\u001b[0m\u001b[0;34m)\u001b[0m\u001b[0;34m\u001b[0m\u001b[0;34m\u001b[0m\u001b[0m\n\u001b[0m\u001b[1;32m   2659\u001b[0m         \u001b[0mindexer\u001b[0m \u001b[0;34m=\u001b[0m \u001b[0mself\u001b[0m\u001b[0;34m.\u001b[0m\u001b[0mget_indexer\u001b[0m\u001b[0;34m(\u001b[0m\u001b[0;34m[\u001b[0m\u001b[0mkey\u001b[0m\u001b[0;34m]\u001b[0m\u001b[0;34m,\u001b[0m \u001b[0mmethod\u001b[0m\u001b[0;34m=\u001b[0m\u001b[0mmethod\u001b[0m\u001b[0;34m,\u001b[0m \u001b[0mtolerance\u001b[0m\u001b[0;34m=\u001b[0m\u001b[0mtolerance\u001b[0m\u001b[0;34m)\u001b[0m\u001b[0;34m\u001b[0m\u001b[0;34m\u001b[0m\u001b[0m\n\u001b[1;32m   2660\u001b[0m         \u001b[0;32mif\u001b[0m \u001b[0mindexer\u001b[0m\u001b[0;34m.\u001b[0m\u001b[0mndim\u001b[0m \u001b[0;34m>\u001b[0m \u001b[0;36m1\u001b[0m \u001b[0;32mor\u001b[0m \u001b[0mindexer\u001b[0m\u001b[0;34m.\u001b[0m\u001b[0msize\u001b[0m \u001b[0;34m>\u001b[0m \u001b[0;36m1\u001b[0m\u001b[0;34m:\u001b[0m\u001b[0;34m\u001b[0m\u001b[0;34m\u001b[0m\u001b[0m\n",
      "\u001b[0;32mpandas/_libs/index.pyx\u001b[0m in \u001b[0;36mpandas._libs.index.IndexEngine.get_loc\u001b[0;34m()\u001b[0m\n",
      "\u001b[0;32mpandas/_libs/index.pyx\u001b[0m in \u001b[0;36mpandas._libs.index.IndexEngine.get_loc\u001b[0;34m()\u001b[0m\n",
      "\u001b[0;32mpandas/_libs/hashtable_class_helper.pxi\u001b[0m in \u001b[0;36mpandas._libs.hashtable.PyObjectHashTable.get_item\u001b[0;34m()\u001b[0m\n",
      "\u001b[0;32mpandas/_libs/hashtable_class_helper.pxi\u001b[0m in \u001b[0;36mpandas._libs.hashtable.PyObjectHashTable.get_item\u001b[0;34m()\u001b[0m\n",
      "\u001b[0;31mKeyError\u001b[0m: 1"
     ]
    }
   ],
   "source": [
    "df.loc[df[1]]"
   ]
  },
  {
   "cell_type": "code",
   "execution_count": 20,
   "metadata": {},
   "outputs": [
    {
     "data": {
      "text/plain": [
       "'{\"1\": \"{\\\\\"1552534400443\\\\\":{\\\\\"requestee\\\\\":3,\\\\\"queue\\\\\":[1,4,3,2],\\\\\"status\\\\\":\\\\\"accepted\\\\\",\\\\\"requester\\\\\":4,\\\\\"bid\\\\\":\\\\\"1.00\\\\\"},\\\\\"1552534407819\\\\\":{\\\\\"requestee\\\\\":3,\\\\\"queue\\\\\":[1,4,3,2],\\\\\"status\\\\\":\\\\\"declined\\\\\",\\\\\"requester\\\\\":2,\\\\\"bid\\\\\":null},\\\\\"1552534415258\\\\\":{\\\\\"requestee\\\\\":3,\\\\\"queue\\\\\":[1,4,2,3],\\\\\"requester\\\\\":2,\\\\\"status\\\\\":\\\\\"accepted\\\\\",\\\\\"bid\\\\\":\\\\\"2.00\\\\\"},\\\\\"1552534437795\\\\\":{\\\\\"requestee\\\\\":2,\\\\\"queue\\\\\":[1,4,2,3],\\\\\"status\\\\\":\\\\\"cancelled\\\\\",\\\\\"requester\\\\\":3}}\", \"2\": \"null\", \"3\": \"{\\\\\"1552534400443\\\\\":{\\\\\"requestee\\\\\":3,\\\\\"queue\\\\\":[1,4,3,2],\\\\\"status\\\\\":\\\\\"accepted\\\\\",\\\\\"requester\\\\\":4,\\\\\"bid\\\\\":\\\\\"1.00\\\\\"},\\\\\"1552534407819\\\\\":{\\\\\"requestee\\\\\":3,\\\\\"queue\\\\\":[1,4,3,2],\\\\\"status\\\\\":\\\\\"declined\\\\\",\\\\\"requester\\\\\":2,\\\\\"bid\\\\\":null},\\\\\"1552534415258\\\\\":{\\\\\"requestee\\\\\":3,\\\\\"queue\\\\\":[1,4,2,3],\\\\\"requester\\\\\":2,\\\\\"status\\\\\":\\\\\"accepted\\\\\",\\\\\"bid\\\\\":\\\\\"2.00\\\\\"},\\\\\"1552534437795\\\\\":{\\\\\"requestee\\\\\":2,\\\\\"queue\\\\\":[1,4,2,3],\\\\\"status\\\\\":\\\\\"cancelled\\\\\",\\\\\"requester\\\\\":3}}\", \"4\": \"{\\\\\"1552534400443\\\\\":{\\\\\"requestee\\\\\":3,\\\\\"queue\\\\\":[1,4,3,2],\\\\\"status\\\\\":\\\\\"accepted\\\\\",\\\\\"requester\\\\\":4,\\\\\"bid\\\\\":\\\\\"1.00\\\\\"},\\\\\"1552534407819\\\\\":{\\\\\"requestee\\\\\":3,\\\\\"queue\\\\\":[1,4,3,2],\\\\\"status\\\\\":\\\\\"declined\\\\\",\\\\\"requester\\\\\":2,\\\\\"bid\\\\\":null},\\\\\"1552534415258\\\\\":{\\\\\"requestee\\\\\":3,\\\\\"queue\\\\\":[1,4,2,3],\\\\\"requester\\\\\":2,\\\\\"status\\\\\":\\\\\"accepted\\\\\",\\\\\"bid\\\\\":\\\\\"2.00\\\\\"},\\\\\"1552534437795\\\\\":{\\\\\"requestee\\\\\":2,\\\\\"queue\\\\\":[1,4,2,3],\\\\\"status\\\\\":\\\\\"cancelled\\\\\",\\\\\"requester\\\\\":3}}\"}'"
      ]
     },
     "execution_count": 20,
     "metadata": {},
     "output_type": "execute_result"
    }
   ],
   "source": [
    "df.iloc[1]['player.allMetadata']"
   ]
  },
  {
   "cell_type": "code",
   "execution_count": 21,
   "metadata": {},
   "outputs": [],
   "source": [
    "import json"
   ]
  },
  {
   "cell_type": "code",
   "execution_count": 22,
   "metadata": {},
   "outputs": [],
   "source": [
    "all = df.iloc[1]['player.allMetadata']"
   ]
  },
  {
   "cell_type": "code",
   "execution_count": 25,
   "metadata": {},
   "outputs": [],
   "source": [
    "all = json.loads(all)"
   ]
  },
  {
   "cell_type": "code",
   "execution_count": 26,
   "metadata": {},
   "outputs": [
    {
     "data": {
      "text/plain": [
       "{u'1': u'{\"1552534400443\":{\"requestee\":3,\"queue\":[1,4,3,2],\"status\":\"accepted\",\"requester\":4,\"bid\":\"1.00\"},\"1552534407819\":{\"requestee\":3,\"queue\":[1,4,3,2],\"status\":\"declined\",\"requester\":2,\"bid\":null},\"1552534415258\":{\"requestee\":3,\"queue\":[1,4,2,3],\"requester\":2,\"status\":\"accepted\",\"bid\":\"2.00\"},\"1552534437795\":{\"requestee\":2,\"queue\":[1,4,2,3],\"status\":\"cancelled\",\"requester\":3}}',\n",
       " u'2': u'null',\n",
       " u'3': u'{\"1552534400443\":{\"requestee\":3,\"queue\":[1,4,3,2],\"status\":\"accepted\",\"requester\":4,\"bid\":\"1.00\"},\"1552534407819\":{\"requestee\":3,\"queue\":[1,4,3,2],\"status\":\"declined\",\"requester\":2,\"bid\":null},\"1552534415258\":{\"requestee\":3,\"queue\":[1,4,2,3],\"requester\":2,\"status\":\"accepted\",\"bid\":\"2.00\"},\"1552534437795\":{\"requestee\":2,\"queue\":[1,4,2,3],\"status\":\"cancelled\",\"requester\":3}}',\n",
       " u'4': u'{\"1552534400443\":{\"requestee\":3,\"queue\":[1,4,3,2],\"status\":\"accepted\",\"requester\":4,\"bid\":\"1.00\"},\"1552534407819\":{\"requestee\":3,\"queue\":[1,4,3,2],\"status\":\"declined\",\"requester\":2,\"bid\":null},\"1552534415258\":{\"requestee\":3,\"queue\":[1,4,2,3],\"requester\":2,\"status\":\"accepted\",\"bid\":\"2.00\"},\"1552534437795\":{\"requestee\":2,\"queue\":[1,4,2,3],\"status\":\"cancelled\",\"requester\":3}}'}"
      ]
     },
     "execution_count": 26,
     "metadata": {},
     "output_type": "execute_result"
    }
   ],
   "source": [
    "all"
   ]
  },
  {
   "cell_type": "code",
   "execution_count": 27,
   "metadata": {},
   "outputs": [
    {
     "ename": "KeyError",
     "evalue": "'u'",
     "output_type": "error",
     "traceback": [
      "\u001b[0;31m---------------------------------------------------------------------------\u001b[0m",
      "\u001b[0;31mKeyError\u001b[0m                                  Traceback (most recent call last)",
      "\u001b[0;32m<ipython-input-27-a3149623591f>\u001b[0m in \u001b[0;36m<module>\u001b[0;34m()\u001b[0m\n\u001b[0;32m----> 1\u001b[0;31m \u001b[0mall\u001b[0m\u001b[0;34m[\u001b[0m\u001b[0;34m'u'\u001b[0m\u001b[0;34m]\u001b[0m\u001b[0;34m\u001b[0m\u001b[0;34m\u001b[0m\u001b[0m\n\u001b[0m",
      "\u001b[0;31mKeyError\u001b[0m: 'u'"
     ]
    }
   ],
   "source": [
    "all['u']"
   ]
  },
  {
   "cell_type": "code",
   "execution_count": 28,
   "metadata": {},
   "outputs": [
    {
     "name": "stdout",
     "output_type": "stream",
     "text": [
      "1\n",
      "3\n",
      "2\n",
      "4\n"
     ]
    }
   ],
   "source": [
    "for key in all:\n",
    "    print(key)"
   ]
  },
  {
   "cell_type": "code",
   "execution_count": 30,
   "metadata": {},
   "outputs": [
    {
     "data": {
      "text/plain": [
       "u'{\"1552534400443\":{\"requestee\":3,\"queue\":[1,4,3,2],\"status\":\"accepted\",\"requester\":4,\"bid\":\"1.00\"},\"1552534407819\":{\"requestee\":3,\"queue\":[1,4,3,2],\"status\":\"declined\",\"requester\":2,\"bid\":null},\"1552534415258\":{\"requestee\":3,\"queue\":[1,4,2,3],\"requester\":2,\"status\":\"accepted\",\"bid\":\"2.00\"},\"1552534437795\":{\"requestee\":2,\"queue\":[1,4,2,3],\"status\":\"cancelled\",\"requester\":3}}'"
      ]
     },
     "execution_count": 30,
     "metadata": {},
     "output_type": "execute_result"
    }
   ],
   "source": [
    "all['1']"
   ]
  },
  {
   "cell_type": "code",
   "execution_count": 31,
   "metadata": {},
   "outputs": [],
   "source": [
    "all1 = all['1']"
   ]
  },
  {
   "cell_type": "code",
   "execution_count": 33,
   "metadata": {},
   "outputs": [
    {
     "data": {
      "text/plain": [
       "u'{\"1552534400443\":{\"requestee\":3,\"queue\":[1,4,3,2],\"status\":\"accepted\",\"requester\":4,\"bid\":\"1.00\"},\"1552534407819\":{\"requestee\":3,\"queue\":[1,4,3,2],\"status\":\"declined\",\"requester\":2,\"bid\":null},\"1552534415258\":{\"requestee\":3,\"queue\":[1,4,2,3],\"requester\":2,\"status\":\"accepted\",\"bid\":\"2.00\"},\"1552534437795\":{\"requestee\":2,\"queue\":[1,4,2,3],\"status\":\"cancelled\",\"requester\":3}}'"
      ]
     },
     "execution_count": 33,
     "metadata": {},
     "output_type": "execute_result"
    }
   ],
   "source": [
    "all['1']"
   ]
  },
  {
   "cell_type": "code",
   "execution_count": 36,
   "metadata": {},
   "outputs": [
    {
     "data": {
      "text/plain": [
       "unicode"
      ]
     },
     "execution_count": 36,
     "metadata": {},
     "output_type": "execute_result"
    }
   ],
   "source": [
    "type(all['1'])"
   ]
  },
  {
   "cell_type": "code",
   "execution_count": 37,
   "metadata": {},
   "outputs": [],
   "source": [
    "all1 = json.loads(all1)"
   ]
  },
  {
   "cell_type": "code",
   "execution_count": 38,
   "metadata": {},
   "outputs": [
    {
     "data": {
      "text/plain": [
       "{u'1552534400443': {u'bid': u'1.00',\n",
       "  u'queue': [1, 4, 3, 2],\n",
       "  u'requestee': 3,\n",
       "  u'requester': 4,\n",
       "  u'status': u'accepted'},\n",
       " u'1552534407819': {u'bid': None,\n",
       "  u'queue': [1, 4, 3, 2],\n",
       "  u'requestee': 3,\n",
       "  u'requester': 2,\n",
       "  u'status': u'declined'},\n",
       " u'1552534415258': {u'bid': u'2.00',\n",
       "  u'queue': [1, 4, 2, 3],\n",
       "  u'requestee': 3,\n",
       "  u'requester': 2,\n",
       "  u'status': u'accepted'},\n",
       " u'1552534437795': {u'queue': [1, 4, 2, 3],\n",
       "  u'requestee': 2,\n",
       "  u'requester': 3,\n",
       "  u'status': u'cancelled'}}"
      ]
     },
     "execution_count": 38,
     "metadata": {},
     "output_type": "execute_result"
    }
   ],
   "source": [
    "all1"
   ]
  },
  {
   "cell_type": "code",
   "execution_count": 39,
   "metadata": {},
   "outputs": [
    {
     "data": {
      "text/plain": [
       "dict"
      ]
     },
     "execution_count": 39,
     "metadata": {},
     "output_type": "execute_result"
    }
   ],
   "source": [
    "type(all)"
   ]
  },
  {
   "cell_type": "code",
   "execution_count": 40,
   "metadata": {},
   "outputs": [
    {
     "data": {
      "text/plain": [
       "dict"
      ]
     },
     "execution_count": 40,
     "metadata": {},
     "output_type": "execute_result"
    }
   ],
   "source": [
    "type(all1)"
   ]
  },
  {
   "cell_type": "code",
   "execution_count": 41,
   "metadata": {},
   "outputs": [],
   "source": [
    "all = all1\n"
   ]
  },
  {
   "cell_type": "code",
   "execution_count": 42,
   "metadata": {},
   "outputs": [
    {
     "data": {
      "text/plain": [
       "{u'1552534400443': {u'bid': u'1.00',\n",
       "  u'queue': [1, 4, 3, 2],\n",
       "  u'requestee': 3,\n",
       "  u'requester': 4,\n",
       "  u'status': u'accepted'},\n",
       " u'1552534407819': {u'bid': None,\n",
       "  u'queue': [1, 4, 3, 2],\n",
       "  u'requestee': 3,\n",
       "  u'requester': 2,\n",
       "  u'status': u'declined'},\n",
       " u'1552534415258': {u'bid': u'2.00',\n",
       "  u'queue': [1, 4, 2, 3],\n",
       "  u'requestee': 3,\n",
       "  u'requester': 2,\n",
       "  u'status': u'accepted'},\n",
       " u'1552534437795': {u'queue': [1, 4, 2, 3],\n",
       "  u'requestee': 2,\n",
       "  u'requester': 3,\n",
       "  u'status': u'cancelled'}}"
      ]
     },
     "execution_count": 42,
     "metadata": {},
     "output_type": "execute_result"
    }
   ],
   "source": [
    "all"
   ]
  },
  {
   "cell_type": "code",
   "execution_count": 43,
   "metadata": {},
   "outputs": [
    {
     "name": "stdout",
     "output_type": "stream",
     "text": [
      "1552534415258\n",
      "1552534437795\n",
      "1552534407819\n",
      "1552534400443\n"
     ]
    }
   ],
   "source": [
    "for key in all:\n",
    "    print(key)"
   ]
  },
  {
   "cell_type": "code",
   "execution_count": 44,
   "metadata": {},
   "outputs": [
    {
     "name": "stdout",
     "output_type": "stream",
     "text": [
      "{u'requestee': 3, u'queue': [1, 4, 2, 3], u'bid': u'2.00', u'status': u'accepted', u'requester': 2}\n",
      "{u'requestee': 2, u'queue': [1, 4, 2, 3], u'status': u'cancelled', u'requester': 3}\n",
      "{u'requestee': 3, u'queue': [1, 4, 3, 2], u'bid': None, u'status': u'declined', u'requester': 2}\n",
      "{u'requestee': 3, u'queue': [1, 4, 3, 2], u'bid': u'1.00', u'status': u'accepted', u'requester': 4}\n"
     ]
    }
   ],
   "source": [
    "for key in all:\n",
    "    print(all[key])"
   ]
  },
  {
   "cell_type": "code",
   "execution_count": 45,
   "metadata": {},
   "outputs": [
    {
     "ename": "TypeError",
     "evalue": "'int' object is not iterable",
     "output_type": "error",
     "traceback": [
      "\u001b[0;31m---------------------------------------------------------------------------\u001b[0m",
      "\u001b[0;31mTypeError\u001b[0m                                 Traceback (most recent call last)",
      "\u001b[0;32m<ipython-input-45-b5ed50484023>\u001b[0m in \u001b[0;36m<module>\u001b[0;34m()\u001b[0m\n\u001b[0;32m----> 1\u001b[0;31m \u001b[0;32mfor\u001b[0m \u001b[0my\u001b[0m \u001b[0;32min\u001b[0m \u001b[0;36m4\u001b[0m\u001b[0;34m:\u001b[0m\u001b[0;34m\u001b[0m\u001b[0;34m\u001b[0m\u001b[0m\n\u001b[0m\u001b[1;32m      2\u001b[0m     \u001b[0;32mprint\u001b[0m\u001b[0;34m(\u001b[0m\u001b[0my\u001b[0m\u001b[0;34m)\u001b[0m\u001b[0;34m\u001b[0m\u001b[0;34m\u001b[0m\u001b[0m\n",
      "\u001b[0;31mTypeError\u001b[0m: 'int' object is not iterable"
     ]
    }
   ],
   "source": [
    "for y in 4:\n",
    "    print(y)"
   ]
  },
  {
   "cell_type": "code",
   "execution_count": null,
   "metadata": {},
   "outputs": [],
   "source": []
  }
 ],
 "metadata": {
  "kernelspec": {
   "display_name": "Python 3",
   "language": "python",
   "name": "python3"
  },
  "language_info": {
   "codemirror_mode": {
    "name": "ipython",
    "version": 2
   },
   "file_extension": ".py",
   "mimetype": "text/x-python",
   "name": "python",
   "nbconvert_exporter": "python",
   "pygments_lexer": "ipython2",
   "version": "2.7.15+"
  }
 },
 "nbformat": 4,
 "nbformat_minor": 2
}
